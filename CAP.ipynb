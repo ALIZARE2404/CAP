{
 "cells": [
  {
   "cell_type": "code",
   "execution_count": null,
   "metadata": {},
   "outputs": [],
   "source": [
    "from CAP.data import download_food101,create_dataloader,save_result\n",
    "from CAP.engine import train,eval_model\n",
    "from CAP.model import Cap,getROIS\n",
    "\n",
    "import torchvision.transforms as transforms\n",
    "import torch.nn as nn\n",
    "from torch.optim import Adam,SGD\n",
    "import os\n",
    "import torch\n",
    "import torch.optim.lr_scheduler as lr_scheduler"
   ]
  },
  {
   "cell_type": "code",
   "execution_count": null,
   "metadata": {},
   "outputs": [],
   "source": [
    "if os.path.isdir('data/food-101'):\n",
    "    print(\"food101 dataset downloaded.\")\n",
    "else:\n",
    "    food_101_train_path,food_101_test_path=download_food101(root='data',val_split=False)\n"
   ]
  },
  {
   "cell_type": "code",
   "execution_count": null,
   "metadata": {},
   "outputs": [],
   "source": [
    "#define train and test transformer\n",
    "train_transform=transforms.Compose([\n",
    "    transforms.Resize((256, 256),interpolation=transforms.InterpolationMode.BICUBIC),  # Resize to 256x256\n",
    "    transforms.RandomRotation(degrees=15),  # Random rotation ±15 degrees\n",
    "    transforms.RandomResizedCrop(size=224, scale=(0.85, 1.15)),  # Random crop to 224 with scaling\n",
    "    transforms.ToTensor(),  # Convert image to tensor\n",
    "    transforms.Normalize([0.485, 0.456, 0.406], [0.229, 0.224, 0.225])\n",
    "])\n",
    "\n",
    "test_transform=transforms.Compose([\n",
    "    transforms.Resize((224,224),interpolation=transforms.InterpolationMode.BICUBIC),\n",
    "    transforms.ToTensor(),\n",
    "    transforms.Normalize([0.485, 0.456, 0.406], [0.229, 0.224, 0.225])\n",
    "])"
   ]
  },
  {
   "cell_type": "code",
   "execution_count": null,
   "metadata": {},
   "outputs": [],
   "source": [
    "train_dataloader,test_dataloader,class_names=create_dataloader(train_path=food_101_train_path,\n",
    "                                                                              test_path=food_101_test_path,\n",
    "                                                                              train_transform=train_transform,\n",
    "                                                                              test_transform=test_transform,\n",
    "                                                                              batch_size=96,\n",
    "                                                                              num_workers=os.cpu_count())\n"
   ]
  },
  {
   "cell_type": "code",
   "execution_count": null,
   "metadata": {},
   "outputs": [],
   "source": [
    "rois_mat,num_rois =  getROIS(resolution=42,gridSize=3, minSize=2)\n"
   ]
  },
  {
   "cell_type": "code",
   "execution_count": null,
   "metadata": {},
   "outputs": [],
   "source": [
    "model=Cap(channels=1280,pool_size=7,num_rois=26,rois_mat=rois_mat,feature_dim=1280*7*7,hidden_size=128,cluster_size=32,out_dim=101)\n",
    "loss_fn=nn.CrossEntropyLoss()\n",
    "optimizer=SGD(params=model.parameters(),lr=0.0001,momentum=0.99)\n",
    "scheduler = lr_scheduler.StepLR(optimizer, step_size=50, gamma=0.1)\n",
    "\n"
   ]
  },
  {
   "cell_type": "code",
   "execution_count": null,
   "metadata": {},
   "outputs": [],
   "source": [
    "device = torch.device(\"cuda\" if torch.cuda.is_available() else \"cpu\")\n",
    "model.to(device=device)"
   ]
  },
  {
   "cell_type": "code",
   "execution_count": null,
   "metadata": {},
   "outputs": [],
   "source": [
    "save_path='CAP_food101'\n",
    "results=train(model=model,\n",
    "                     train_dataloader=train_dataloader,\n",
    "                     test_dataloader=test_dataloader,\n",
    "                     optimizer=optimizer,\n",
    "                     scheduler=scheduler,\n",
    "                     loss_fn=loss_fn,\n",
    "                     epochs=150,\n",
    "                     device=device,\n",
    "                     model_name=\"CAP-food101.pth\",\n",
    "                     model_saving_dir=save_path)\n"
   ]
  },
  {
   "cell_type": "code",
   "execution_count": null,
   "metadata": {},
   "outputs": [],
   "source": [
    "test_results=eval_model(model=model,\n",
    "                               dataloader=test_dataloader,\n",
    "                               loss_fn=loss_fn,\n",
    "                               num_classes=len(class_names),\n",
    "                               device=device)\n"
   ]
  },
  {
   "cell_type": "code",
   "execution_count": null,
   "metadata": {},
   "outputs": [],
   "source": [
    "save_result(data_dict=results,\n",
    "            result_save_dir=save_path,\n",
    "            result_name=\"CAP-food101_train_results\")\n",
    "save_result(data_dict=test_results,\n",
    "            result_save_dir=save_path,\n",
    "            result_name=\"CAP-food101_eval_results\")"
   ]
  }
 ],
 "metadata": {
  "kernelspec": {
   "display_name": "Python 3",
   "language": "python",
   "name": "python3"
  },
  "language_info": {
   "codemirror_mode": {
    "name": "ipython",
    "version": 3
   },
   "file_extension": ".py",
   "mimetype": "text/x-python",
   "name": "python",
   "nbconvert_exporter": "python",
   "pygments_lexer": "ipython3",
   "version": "3.12.8"
  }
 },
 "nbformat": 4,
 "nbformat_minor": 2
}
